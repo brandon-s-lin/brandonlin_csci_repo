{
 "cells": [
  {
   "cell_type": "code",
   "execution_count": 5,
   "metadata": {},
   "outputs": [
    {
     "name": "stdout",
     "output_type": "stream",
     "text": [
      "The vairable x has the value of a bannana\n"
     ]
    }
   ],
   "source": [
    "x = 'a bannana'\n",
    "#this is called string concatination\n",
    "print(\"The vairable x has the value of\", x)"
   ]
  },
  {
   "cell_type": "code",
   "execution_count": 6,
   "metadata": {},
   "outputs": [],
   "source": [
    "#the ls command shows a list of files that shows you where you are and what is in the directory. \n",
    "#CD is just the change directory which leads to the user profile."
   ]
  },
  {
   "cell_type": "code",
   "execution_count": 7,
   "metadata": {},
   "outputs": [
    {
     "name": "stdout",
     "output_type": "stream",
     "text": [
      "The variable x has the value of a bannana\n"
     ]
    }
   ],
   "source": [
    "#f notation could be used\n",
    "print(f\"The variable x has the value of {x}\")"
   ]
  },
  {
   "cell_type": "code",
   "execution_count": 9,
   "metadata": {},
   "outputs": [
    {
     "name": "stdout",
     "output_type": "stream",
     "text": [
      "The variable x has the value of +x\n"
     ]
    }
   ],
   "source": [
    "#another way to do f notation would be \n",
    "print(f\"The variable x has the value of +x\")"
   ]
  },
  {
   "cell_type": "code",
   "execution_count": null,
   "metadata": {},
   "outputs": [],
   "source": []
  }
 ],
 "metadata": {
  "kernelspec": {
   "display_name": "Python 3",
   "language": "python",
   "name": "python3"
  },
  "language_info": {
   "codemirror_mode": {
    "name": "ipython",
    "version": 3
   },
   "file_extension": ".py",
   "mimetype": "text/x-python",
   "name": "python",
   "nbconvert_exporter": "python",
   "pygments_lexer": "ipython3",
   "version": "3.11.9"
  }
 },
 "nbformat": 4,
 "nbformat_minor": 2
}
