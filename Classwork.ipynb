{
 "cells": [
  {
   "cell_type": "code",
   "execution_count": 3,
   "metadata": {},
   "outputs": [
    {
     "name": "stdout",
     "output_type": "stream",
     "text": [
      "a is greater\n"
     ]
    }
   ],
   "source": [
    "#Loops are flow contorl. Changes how code executes iteratively, how data moves through the application.\n",
    "# if ... (elif ... else)\n",
    "#if and else are optional. Depends on what youre trying to do\n",
    "#if a equals b, return \"they are equal\". If a is greater than be \"a is greater\" and if b is greater than a, return \"b is greater\"\n",
    "#double equals is comparing whereas single equals is setting something equal to something else ( assigning a value )\n",
    "\n",
    "a = 3\n",
    "b=2\n",
    "\n",
    "if a == b :\n",
    "    print(\"they are equal\")\n",
    "elif a>b:\n",
    "    print(\"a is greater\")\n",
    "elif b>a:\n",
    "    print(\"b is greater\")"
   ]
  },
  {
   "cell_type": "code",
   "execution_count": 4,
   "metadata": {},
   "outputs": [
    {
     "name": "stdout",
     "output_type": "stream",
     "text": [
      "7\n",
      "6\n"
     ]
    }
   ],
   "source": [
    "#while loops \n",
    "# repeatedly test an expression and continue to run whatever is in the loop until a stopping condition is met\n",
    "x = 7\n",
    "while x > 5:\n",
    "    print(x)\n",
    "    #decrement means to decrease. decrement our x so it can stop\n",
    "    x = x - 1\n",
    "    #x-=1 means the same thing"
   ]
  },
  {
   "cell_type": "code",
   "execution_count": 5,
   "metadata": {},
   "outputs": [
    {
     "name": "stdout",
     "output_type": "stream",
     "text": [
      "3\n",
      "4\n",
      "5\n",
      "6\n",
      "7\n",
      "8\n",
      "9\n"
     ]
    }
   ],
   "source": [
    "#create a scenario where x starts at 3 and is incremented by 1 \n",
    "#you print the value of x while x is less than 10\n",
    "x = 3\n",
    "while x < 10:\n",
    "    print(x)\n",
    "    x+=1"
   ]
  },
  {
   "cell_type": "code",
   "execution_count": 9,
   "metadata": {},
   "outputs": [
    {
     "name": "stdout",
     "output_type": "stream",
     "text": [
      "Dexter\n",
      "Grumpy\n",
      "Pete\n",
      "Dotty\n",
      "Fluffy\n"
     ]
    }
   ],
   "source": [
    "#For loops \n",
    "cats = [\"Dexter\",\"Grumpy\", \"Pete\", \"Dotty\", \"Fluffy\"]\n",
    "for z in cats: \n",
    "    print(z)"
   ]
  },
  {
   "cell_type": "code",
   "execution_count": 13,
   "metadata": {},
   "outputs": [
    {
     "name": "stdout",
     "output_type": "stream",
     "text": [
      "1\n",
      "6\n"
     ]
    }
   ],
   "source": [
    "# range(start, stop, [step]) if there is no step then it will be 1\n",
    "# stop is exclusive, so its not included\n",
    "for r in range(1,10+1,5):\n",
    "    print(r)"
   ]
  },
  {
   "cell_type": "code",
   "execution_count": 19,
   "metadata": {},
   "outputs": [],
   "source": [
    "# if we ou r code to be reusable, we use a function!\n",
    "# and variables we want to use in the function need to be passed in or defined inside the function itself.\n",
    "a=1\n",
    "b=2\n",
    "def function(a=0,b=0):\n",
    "    if a == b :\n",
    "        return(\"they are equal\")\n",
    "    elif a>b:\n",
    "        return(\"a is greater\")\n",
    "    elif b>a:\n",
    "        return(\"b is greater\")"
   ]
  },
  {
   "cell_type": "code",
   "execution_count": 22,
   "metadata": {},
   "outputs": [
    {
     "data": {
      "text/plain": [
       "'b is greater'"
      ]
     },
     "execution_count": 22,
     "metadata": {},
     "output_type": "execute_result"
    }
   ],
   "source": [
    "function(-2)"
   ]
  },
  {
   "cell_type": "code",
   "execution_count": null,
   "metadata": {},
   "outputs": [],
   "source": []
  }
 ],
 "metadata": {
  "kernelspec": {
   "display_name": "Python 3",
   "language": "python",
   "name": "python3"
  },
  "language_info": {
   "codemirror_mode": {
    "name": "ipython",
    "version": 3
   },
   "file_extension": ".py",
   "mimetype": "text/x-python",
   "name": "python",
   "nbconvert_exporter": "python",
   "pygments_lexer": "ipython3",
   "version": "3.11.9"
  }
 },
 "nbformat": 4,
 "nbformat_minor": 2
}
