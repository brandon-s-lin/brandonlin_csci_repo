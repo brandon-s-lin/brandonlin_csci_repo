{
 "cells": [
  {
   "cell_type": "markdown",
   "metadata": {},
   "source": [
    "# Question 1\n",
    "\n",
    "(2 pts) Create a function that accepts a list of values. Filter out all values that are numeric and return the new list.\n",
    "Input:\n",
    "[1,2,'a','b',7.6]\n",
    "\n",
    "output: [‘a’,’b’]"
   ]
  },
  {
   "cell_type": "code",
   "execution_count": 3,
   "metadata": {},
   "outputs": [
    {
     "name": "stdout",
     "output_type": "stream",
     "text": [
      "['a', 'b']\n"
     ]
    }
   ],
   "source": [
    "def no_numbers(values):\n",
    "\n",
    "    return [item for item in values if not isinstance(item, (int, float))]\n",
    "\n",
    "list = [1, 2, 'a', 'b', 7.6]\n",
    "filtered_list = no_numbers(list)\n",
    "print(filtered_list)"
   ]
  },
  {
   "cell_type": "markdown",
   "metadata": {},
   "source": [
    "# Question 2\n",
    "\n",
    "(3 pts) Write a clean solution to fizzbuzz that we did in a previous class that uses default arguments, typing, a docstring, and useful comments.\n",
    "takes in a value and returns all values from 1 to that number. If they are divisible by 3, it returns that number and fizz, if they are divisible by 5, it returns that number and buzz, and if they are divisible by both it returns that number and fizzbuzz."
   ]
  },
  {
   "cell_type": "code",
   "execution_count": null,
   "metadata": {},
   "outputs": [],
   "source": [
    "def fizzbuzz (x: int) -> str:\n",
    "    '''\n",
    "    This funciton takes an integer input and if it is divisible by 3 and 5, return \"fizzbuzz\"\n",
    "    if the integer is only divisible by 3, return \"fizz\"\n",
    "    if the integer is only divisible by 5, return \"buzz\"\n",
    "    else if the integer is neither, return \"sigma\"\n",
    "    '''\n",
    "    # Determine if the integer is divisible by 3 and 5\n",
    "    if x % 3 == 0 and x % 5 == 0:\n",
    "        return \"fizzbuzz\"\n",
    "    # Determine if the integer is divisible by 3\n",
    "    elif x % 3 == 0:\n",
    "        return \"fizz\"\n",
    "    # Determine if the integer is divisible by 5\n",
    "    elif x % 5 == 0:\n",
    "        return \"buzz\"\n",
    "    # Else function for integers that do not fit into the conditions above\n",
    "    else:\n",
    "        return \"Sigma\"\n",
    "    \n",
    "x = 15\n",
    "\n",
    "fizzbuzz(x)"
   ]
  }
 ],
 "metadata": {
  "kernelspec": {
   "display_name": "Python 3",
   "language": "python",
   "name": "python3"
  },
  "language_info": {
   "codemirror_mode": {
    "name": "ipython",
    "version": 3
   },
   "file_extension": ".py",
   "mimetype": "text/x-python",
   "name": "python",
   "nbconvert_exporter": "python",
   "pygments_lexer": "ipython3",
   "version": "3.11.9"
  }
 },
 "nbformat": 4,
 "nbformat_minor": 2
}
