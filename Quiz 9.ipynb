{
 "cells": [
  {
   "cell_type": "markdown",
   "metadata": {},
   "source": [
    "# Q1"
   ]
  },
  {
   "cell_type": "code",
   "execution_count": 27,
   "metadata": {},
   "outputs": [
    {
     "name": "stdout",
     "output_type": "stream",
     "text": [
      "              precision    recall  f1-score   support\n",
      "\n",
      "           0       0.86      0.66      0.75       151\n",
      "           1       0.56      0.80      0.66        80\n",
      "\n",
      "    accuracy                           0.71       231\n",
      "   macro avg       0.71      0.73      0.70       231\n",
      "weighted avg       0.76      0.71      0.72       231\n",
      "\n"
     ]
    }
   ],
   "source": [
    "import numpy as np\n",
    "import pandas as pd\n",
    "from sklearn import tree\n",
    "from sklearn.metrics import ConfusionMatrixDisplay, classification_report\n",
    "\n",
    "diabetes_df = pd.read_csv(\"diabetes.csv\")\n",
    "\n",
    "from sklearn.model_selection import train_test_split\n",
    "\n",
    "X = diabetes_df.drop('Outcome', axis = 1)\n",
    "\n",
    "y = diabetes_df['Outcome']\n",
    "\n",
    "X_train, X_test, y_train, y_test = train_test_split(X,y,test_size=0.3, random_state = 42)\n",
    "\n",
    "model = tree.DecisionTreeClassifier(max_depth=4, min_samples_leaf=10,random_state=42)\n",
    "\n",
    "model = model.fit(X_train, y_train)\n",
    "\n",
    "y_pred = model.predict(X_test)\n",
    "\n",
    "print(classification_report(y_test, y_pred))"
   ]
  },
  {
   "cell_type": "markdown",
   "metadata": {},
   "source": [
    "# Q2"
   ]
  },
  {
   "cell_type": "code",
   "execution_count": 28,
   "metadata": {},
   "outputs": [
    {
     "name": "stdout",
     "output_type": "stream",
     "text": [
      "Niles, C.C. & Fran\n"
     ]
    }
   ],
   "source": [
    "def naminator(naminator):\n",
    "    namestring = \"\"\n",
    "    counter = 1\n",
    "    lenlist = len(naminator) \n",
    "\n",
    "    for name in naminator:\n",
    "        if counter < lenlist - 1:  \n",
    "            namestring += f\"{name['name']}, \"\n",
    "        elif counter == lenlist - 1:\n",
    "            namestring += f\"{name['name']} \"\n",
    "        else:  # For the last name\n",
    "            namestring += f\"& {name['name']}\"\n",
    "        counter += 1\n",
    "\n",
    "    return namestring\n",
    "\n",
    "x = [ {'name': 'Niles'}, \n",
    "     {'name': 'C.C.'}, \n",
    "     {'name': 'Fran'} ]\n",
    "\n",
    "print(naminator(x))"
   ]
  }
 ],
 "metadata": {
  "kernelspec": {
   "display_name": "Python 3",
   "language": "python",
   "name": "python3"
  },
  "language_info": {
   "codemirror_mode": {
    "name": "ipython",
    "version": 3
   },
   "file_extension": ".py",
   "mimetype": "text/x-python",
   "name": "python",
   "nbconvert_exporter": "python",
   "pygments_lexer": "ipython3",
   "version": "3.11.9"
  }
 },
 "nbformat": 4,
 "nbformat_minor": 2
}
