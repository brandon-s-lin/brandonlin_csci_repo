{
 "cells": [
  {
   "cell_type": "markdown",
   "metadata": {},
   "source": [
    "1. Import the Belize_Airbnb_listings.csv\n",
    "\n",
    "2. Create a new dataframe that takes the original dataset and groups the data by neighborhood and finds the average price, total number of reviews, and max availability_365."
   ]
  },
  {
   "cell_type": "code",
   "execution_count": 1,
   "metadata": {},
   "outputs": [],
   "source": [
    "import pandas as pd\n",
    "import numpy as np\n",
    "\n",
    "# Modules for statistics\n",
    "import math\n",
    "import statistics\n",
    "from scipy import stats"
   ]
  },
  {
   "cell_type": "code",
   "execution_count": 52,
   "metadata": {},
   "outputs": [
    {
     "data": {
      "text/html": [
       "<div>\n",
       "<style scoped>\n",
       "    .dataframe tbody tr th:only-of-type {\n",
       "        vertical-align: middle;\n",
       "    }\n",
       "\n",
       "    .dataframe tbody tr th {\n",
       "        vertical-align: top;\n",
       "    }\n",
       "\n",
       "    .dataframe thead th {\n",
       "        text-align: right;\n",
       "    }\n",
       "</style>\n",
       "<table border=\"1\" class=\"dataframe\">\n",
       "  <thead>\n",
       "    <tr style=\"text-align: right;\">\n",
       "      <th></th>\n",
       "      <th>price</th>\n",
       "      <th>reviews_per_month</th>\n",
       "      <th>availability_365</th>\n",
       "    </tr>\n",
       "    <tr>\n",
       "      <th>neighbourhood_group</th>\n",
       "      <th></th>\n",
       "      <th></th>\n",
       "      <th></th>\n",
       "    </tr>\n",
       "  </thead>\n",
       "  <tbody>\n",
       "    <tr>\n",
       "      <th>Belize</th>\n",
       "      <td>380.302414</td>\n",
       "      <td>634.56</td>\n",
       "      <td>365</td>\n",
       "    </tr>\n",
       "    <tr>\n",
       "      <th>Cayo</th>\n",
       "      <td>205.847525</td>\n",
       "      <td>181.05</td>\n",
       "      <td>365</td>\n",
       "    </tr>\n",
       "    <tr>\n",
       "      <th>Corozal</th>\n",
       "      <td>156.553846</td>\n",
       "      <td>11.42</td>\n",
       "      <td>365</td>\n",
       "    </tr>\n",
       "    <tr>\n",
       "      <th>Orange Walk</th>\n",
       "      <td>122.035714</td>\n",
       "      <td>10.02</td>\n",
       "      <td>365</td>\n",
       "    </tr>\n",
       "    <tr>\n",
       "      <th>Stann Creek</th>\n",
       "      <td>471.119584</td>\n",
       "      <td>130.74</td>\n",
       "      <td>365</td>\n",
       "    </tr>\n",
       "    <tr>\n",
       "      <th>Toledo</th>\n",
       "      <td>222.978723</td>\n",
       "      <td>6.15</td>\n",
       "      <td>365</td>\n",
       "    </tr>\n",
       "  </tbody>\n",
       "</table>\n",
       "</div>"
      ],
      "text/plain": [
       "                          price  reviews_per_month  availability_365\n",
       "neighbourhood_group                                                 \n",
       "Belize               380.302414             634.56               365\n",
       "Cayo                 205.847525             181.05               365\n",
       "Corozal              156.553846              11.42               365\n",
       "Orange Walk          122.035714              10.02               365\n",
       "Stann Creek          471.119584             130.74               365\n",
       "Toledo               222.978723               6.15               365"
      ]
     },
     "execution_count": 52,
     "metadata": {},
     "output_type": "execute_result"
    }
   ],
   "source": [
    "#1\n",
    "belize_listings_path = \"belize_airbnb_listings.csv\"\n",
    "\n",
    "belize_df = pd.read_csv(belize_listings_path)\n",
    "\n",
    "#2\n",
    "\n",
    "grouped_df = belize_df.groupby('neighbourhood_group')\n",
    "\n",
    "price_df = grouped_df[\"price\"].mean()\n",
    "\n",
    "reviews_df = grouped_df[\"reviews_per_month\"].sum()\n",
    "\n",
    "availability_df = grouped_df[\"availability_365\"].max()\n",
    "\n",
    "merge_df = pd.merge(price_df, reviews_df, on=\"neighbourhood_group\")\n",
    "\n",
    "surge_df = pd.merge(merge_df, availability_df, on=\"neighbourhood_group\")\n",
    "surge_df"
   ]
  }
 ],
 "metadata": {
  "kernelspec": {
   "display_name": "Python 3",
   "language": "python",
   "name": "python3"
  },
  "language_info": {
   "codemirror_mode": {
    "name": "ipython",
    "version": 3
   },
   "file_extension": ".py",
   "mimetype": "text/x-python",
   "name": "python",
   "nbconvert_exporter": "python",
   "pygments_lexer": "ipython3",
   "version": "3.11.9"
  }
 },
 "nbformat": 4,
 "nbformat_minor": 2
}
