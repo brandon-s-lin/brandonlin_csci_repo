{
 "cells": [
  {
   "cell_type": "markdown",
   "metadata": {},
   "source": [
    "### Homework 1\n",
    "\n",
    "Skim this Homework before you do your reading assignments. It will help focus your attention. \n",
    "\n",
    "Provide written answers to questions with a `#comment`. \n",
    "\n",
    "Answer the first 8 question **first** to make sure you understand the core concepts. The rest may be completed in any order.\n",
    "\n",
    "Each question is worth one point unless otherwise stated.\n",
    "\n",
    "Please note: I hope this assignment gets you to tinker with Python. I learn a lot by playing around, and it is important to me that you eventually do too!"
   ]
  },
  {
   "cell_type": "markdown",
   "metadata": {},
   "source": [
    "1. How can you get more information about a function or an object from inside a jupyter cell? "
   ]
  },
  {
   "cell_type": "code",
   "execution_count": null,
   "metadata": {},
   "outputs": [],
   "source": [
    "#Place the cursor on the Python function and press shift-Tab"
   ]
  },
  {
   "cell_type": "markdown",
   "metadata": {},
   "source": [
    "2. How can you determine the data type of an object? Describe one data type and what it is."
   ]
  },
  {
   "cell_type": "code",
   "execution_count": null,
   "metadata": {},
   "outputs": [],
   "source": [
    "#To determine the data type of an object, you would need to use the type() function. An integer is an example of a data type and \n",
    "#it can be classified as zero and positive or negative whole numbers with no fractional part."
   ]
  },
  {
   "cell_type": "markdown",
   "metadata": {},
   "source": [
    "3. What does assignment mean? Assign a variable named `x` and give it a value of `'yellow'`."
   ]
  },
  {
   "cell_type": "code",
   "execution_count": 1,
   "metadata": {},
   "outputs": [
    {
     "name": "stdout",
     "output_type": "stream",
     "text": [
      "yellow\n"
     ]
    }
   ],
   "source": [
    "#Assignment means to add value to a variable.\n",
    "x = 'yellow'\n",
    "print(x)"
   ]
  },
  {
   "cell_type": "markdown",
   "metadata": {},
   "source": [
    "4. You have an assortment of items you will need to keep track of. What would be a good data structure to keep them in? Provide an example in code. Make sure your code runs!"
   ]
  },
  {
   "cell_type": "code",
   "execution_count": 2,
   "metadata": {},
   "outputs": [
    {
     "name": "stdout",
     "output_type": "stream",
     "text": [
      "<class 'dict'>\n",
      "{'apple': 4, 'bannana': 3, 'pear': 1}\n"
     ]
    }
   ],
   "source": [
    "#If you have an assortment of items that you need to keep track of, a good data structure to keep them in would be a dictionary.\n",
    "#Lets say you have 4 apples, 3 bannanas, and 1 pear. Some code that would save the information would be\n",
    "fruits = {\"apple\" : 4,\n",
    "          \"bannana\" : 3,\n",
    "          \"pear\" : 1,}\n",
    "print(type(fruits))\n",
    "print(fruits)"
   ]
  },
  {
   "cell_type": "markdown",
   "metadata": {},
   "source": [
    "5. You have an assortment of names and telephone numbers. What might be a good data structure to keep them in? Show an example with code. Make sure your code runs!"
   ]
  },
  {
   "cell_type": "code",
   "execution_count": 17,
   "metadata": {},
   "outputs": [
    {
     "name": "stdout",
     "output_type": "stream",
     "text": [
      "{'Kylie Jenner': '(734)553-1827', 'Sam Smith': '(538)728-5917', 'Walter White': '(298)853-8591'}\n",
      "(298)853-8591\n"
     ]
    }
   ],
   "source": [
    "#If I have an assortment of names and telephone numbers, I would most likely use the dictionary data structure. \n",
    "# This is my example of keeping track of names and telephone numbers.\n",
    "contacts = {\"Kylie Jenner\" : \"(734)553-1827\",\n",
    "            \"Sam Smith\" : \"(538)728-5917\",\n",
    "            \"Walter White\" : \"(298)853-8591\",}\n",
    "print(contacts) #should print out the people in the contacts with their numbers\n",
    "print(contacts[\"Walter White\"]) #if you put the name of the person in the contacts, it will print out their number"
   ]
  },
  {
   "cell_type": "markdown",
   "metadata": {},
   "source": [
    "6. You need to create a copy of an important list and alter the copy. Why is the following code a bad idea? "
   ]
  },
  {
   "cell_type": "code",
   "execution_count": 9,
   "metadata": {},
   "outputs": [],
   "source": [
    "list1 = [2,4,6]\n",
    "list2 = list1\n",
    "list2[0]= 8"
   ]
  },
  {
   "cell_type": "code",
   "execution_count": 10,
   "metadata": {},
   "outputs": [],
   "source": [
    "#The reason the following code is a bad idea is because the code in line 2 does not make a copy of list 1, but rather it makes \n",
    "#list 2 connected to list 1. This means that when you modify list 2, you will also affect list 1 since list 2 is not separate."
   ]
  },
  {
   "cell_type": "markdown",
   "metadata": {},
   "source": [
    "7. What is truthy and falsey? Provide a list example **and** a string example of something that is truthy and something that is falsey."
   ]
  },
  {
   "cell_type": "code",
   "execution_count": 16,
   "metadata": {},
   "outputs": [
    {
     "name": "stdout",
     "output_type": "stream",
     "text": [
      "Truthy\n",
      "Falsey\n",
      "Truthy\n",
      "Falsey\n"
     ]
    }
   ],
   "source": [
    "#Truthy and falsey refer to values that are evaluated as true or false in a boolean context.\n",
    "truthy_list_example = [1, 2, 3] #Since the list is not empty, it is truthy\n",
    "if truthy_list_example:\n",
    "    print(\"Truthy\") #This should print truthy\n",
    "\n",
    "falsey_list_example = [] #this is falsey since list is empty\n",
    "if not falsey_list_example:\n",
    "    print(\"Falsey\") #This should print falsey\n",
    "\n",
    "truthy_string_example = \"I Computer Science\" #This is truthey because it is not empty\n",
    "if truthy_string_example:\n",
    "    print(\"Truthy\") #This should print truthy\n",
    "\n",
    "falsey_string_example = \"\" #this is falsey because it is empty\n",
    "if not falsey_list_example:\n",
    "    print(\"Falsey\") #This should print falsey"
   ]
  },
  {
   "cell_type": "markdown",
   "metadata": {},
   "source": [
    "8. What is the difference between a dynamically typed and statically typed language? \n",
    "\n",
    "Which one is python? \n",
    "\n",
    "When is that a good thing? \n",
    "\n",
    "When is that a bad thing? "
   ]
  },
  {
   "cell_type": "code",
   "execution_count": 18,
   "metadata": {},
   "outputs": [],
   "source": [
    "# The difference between a dynamically typed language and a statically typed language is that a variable is determined at runtime\n",
    "# meaning that the interpreter declares the variable type based on the value that is assigned to the variable; meanwhile,\n",
    "# in a statically typed language, you have to explicitly declare the type of variable when you create it.\n",
    "#Python is a dynamically typed language\n",
    "#Dynamically typed languages are good when you are a beginner and for when you are trying to make development of software faster\n",
    "#Dynamically typed languages are bad when you have to debug code and when you are trying to optimize software for performance."
   ]
  },
  {
   "cell_type": "markdown",
   "metadata": {},
   "source": [
    "9. Here is a [link](https://docs.python.org/3/library/functions.html) to the python `built-in functions`. Choose 2 and give an example of how to use them. "
   ]
  },
  {
   "cell_type": "code",
   "execution_count": 20,
   "metadata": {},
   "outputs": [
    {
     "name": "stdout",
     "output_type": "stream",
     "text": [
      "Lemonade Soup\n",
      "16\n"
     ]
    }
   ],
   "source": [
    "# One function that is built into python is the print() function\n",
    "print(\"Lemonade Soup\") # This should output Lemonade Soup\n",
    "\n",
    "# Another function is the len() funciton\n",
    "slimjim_length = \"Machine Learning\"\n",
    "print(len(slimjim_length)) #This is an example of using the len() function with a string"
   ]
  },
  {
   "cell_type": "markdown",
   "metadata": {},
   "source": [
    "10. What `operator` might help me determine if an integer is even or odd? Provide a code example, and make sure it runs!"
   ]
  },
  {
   "cell_type": "code",
   "execution_count": 28,
   "metadata": {},
   "outputs": [
    {
     "name": "stdout",
     "output_type": "stream",
     "text": [
      "10 is even.\n",
      "251932481 is odd.\n"
     ]
    }
   ],
   "source": [
    "#The operator that might help determine if an integer is even or odd is the % operator. Below is an example.\n",
    "def even_odd(number):\n",
    "    if number % 2 == 0: # This part of the code tells me if the number will be even or odd\n",
    "        return \"even\"\n",
    "    else: #this part of the code only triggers if the if condition is not fulfilled.\n",
    "        return \"odd\"\n",
    "x = 10\n",
    "y = 251932481\n",
    "print(f\"{x} is {even_odd(x)}.\") #This notation was just learned in class and I would like to try it.\n",
    "print(f\"{y} is {even_odd(y)}.\")"
   ]
  },
  {
   "cell_type": "markdown",
   "metadata": {},
   "source": [
    "11. What is a python expression? What does an expression evalute to? "
   ]
  },
  {
   "cell_type": "code",
   "execution_count": null,
   "metadata": {},
   "outputs": [],
   "source": [
    "# A python expression is any combination of values, variables, operators, and function calls that are used to produce a value.\n",
    "# An expression always evaluates to a value."
   ]
  },
  {
   "cell_type": "markdown",
   "metadata": {},
   "source": [
    "12. Provide an expression that evaluates which variable is greater. "
   ]
  },
  {
   "cell_type": "code",
   "execution_count": 29,
   "metadata": {},
   "outputs": [
    {
     "name": "stdout",
     "output_type": "stream",
     "text": [
      "foo is greater\n"
     ]
    }
   ],
   "source": [
    "foo = 77\n",
    "bar = 38\n",
    "\n",
    "#This is an expression that determines which variable is greater\n",
    "which_is_greater = \"foo is greater\" if foo > bar else \"bar is greater or equal\"\n",
    "print(which_is_greater)"
   ]
  },
  {
   "cell_type": "markdown",
   "metadata": {},
   "source": [
    "13. Provide an if statement (inside the provided for loop) that prints 'even' if the number is even, 'odd' if the number is odd, and 'found it!' if the number is 3."
   ]
  },
  {
   "cell_type": "code",
   "execution_count": 30,
   "metadata": {},
   "outputs": [
    {
     "name": "stdout",
     "output_type": "stream",
     "text": [
      "odd\n",
      "even\n",
      "found it!\n",
      "even\n",
      "odd\n",
      "even\n",
      "odd\n",
      "even\n",
      "odd\n"
     ]
    }
   ],
   "source": [
    "my_list = [1,2,3,4,5,6,7,8,9]\n",
    "for i in my_list:\n",
    "    if i == 3:\n",
    "        print('found it!')\n",
    "    elif i% 2 == 0:\n",
    "        print('even')\n",
    "    else:\n",
    "        print('odd')\n",
    "    #Your if statement goes here.\n",
    "    #Be sure to indent the statement\n",
    "    #And delete the word 'pass'"
   ]
  },
  {
   "cell_type": "markdown",
   "metadata": {},
   "source": [
    "14. What is the greater than equal to operator? Show a code example of how it is used. "
   ]
  },
  {
   "cell_type": "code",
   "execution_count": 31,
   "metadata": {},
   "outputs": [
    {
     "name": "stdout",
     "output_type": "stream",
     "text": [
      "3 is less than 6\n"
     ]
    }
   ],
   "source": [
    "#The greater than or equal to operator in python is denoted as '>='\n",
    "# Here is an example\n",
    "chicken_patty = 3\n",
    "home_wrecker = 6\n",
    "\n",
    "if chicken_patty >= home_wrecker:\n",
    "    print(f\"{chicken_patty} is greater than or equal to {home_wrecker}\")\n",
    "else:\n",
    "    print(f\"{chicken_patty} is less than {home_wrecker}\")"
   ]
  },
  {
   "cell_type": "markdown",
   "metadata": {},
   "source": [
    "15. What is the floored division operator? Show a code example of how it is used. "
   ]
  },
  {
   "cell_type": "code",
   "execution_count": 32,
   "metadata": {},
   "outputs": [
    {
     "name": "stdout",
     "output_type": "stream",
     "text": [
      "11281\n"
     ]
    }
   ],
   "source": [
    "# A floored division operator in python is denoted by '//'. This operator performs division and then floors the result meaning\n",
    "# it rounds down to the nearest integer.\n",
    "# Here is a code example\n",
    "pennies = 84817634980735\n",
    "john_cena = 7518618324\n",
    "mind_blowing = pennies // john_cena\n",
    "print(mind_blowing)"
   ]
  },
  {
   "cell_type": "markdown",
   "metadata": {},
   "source": [
    "16. Why does the following give an error? Show how to fix it."
   ]
  },
  {
   "cell_type": "code",
   "execution_count": 1,
   "metadata": {},
   "outputs": [
    {
     "ename": "SyntaxError",
     "evalue": "invalid decimal literal (445552376.py, line 1)",
     "output_type": "error",
     "traceback": [
      "\u001b[0;36m  Cell \u001b[0;32mIn[1], line 1\u001b[0;36m\u001b[0m\n\u001b[0;31m    2cars = ('Ferarri', 'Mustang')\u001b[0m\n\u001b[0m    ^\u001b[0m\n\u001b[0;31mSyntaxError\u001b[0m\u001b[0;31m:\u001b[0m invalid decimal literal\n"
     ]
    }
   ],
   "source": [
    "2cars = ('Ferarri', 'Mustang')"
   ]
  },
  {
   "cell_type": "code",
   "execution_count": 34,
   "metadata": {},
   "outputs": [
    {
     "name": "stdout",
     "output_type": "stream",
     "text": [
      "('Ferarri', 'Mustang')\n"
     ]
    }
   ],
   "source": [
    "# The code above gives an error because the variable does not start with a letter or underscore\n",
    "# Here is some corrected code\n",
    "cars = ('Ferarri', 'Mustang')\n",
    "print(cars)"
   ]
  },
  {
   "cell_type": "markdown",
   "metadata": {},
   "source": [
    "17. Why does this if statement evaluate to true and do what's in the if body? \n",
    "You will see this shortcut a lot and it can be confusing."
   ]
  },
  {
   "cell_type": "code",
   "execution_count": 35,
   "metadata": {},
   "outputs": [
    {
     "name": "stdout",
     "output_type": "stream",
     "text": [
      "Hooray!\n"
     ]
    }
   ],
   "source": [
    "some_list = ['fizz','buzz',1,{'key':'value'}]\n",
    "\n",
    "if some_list:\n",
    "    print('Hooray!')"
   ]
  },
  {
   "cell_type": "code",
   "execution_count": null,
   "metadata": {},
   "outputs": [],
   "source": [
    "# The reason that the if statement evaluates to true is because a non-empty list in python is considered true in a boolean context.\n",
    "# The if statement evaluates the truthiness of an expression."
   ]
  },
  {
   "cell_type": "markdown",
   "metadata": {},
   "source": [
    "18. Write an expression that raises one number to the power of 8. "
   ]
  },
  {
   "cell_type": "code",
   "execution_count": 36,
   "metadata": {},
   "outputs": [
    {
     "name": "stdout",
     "output_type": "stream",
     "text": [
      "43046721\n"
     ]
    }
   ],
   "source": [
    "# Number that I want to raise to the power of 8 of\n",
    "goafiabisdnfabniubeamaqfn = 9\n",
    "\n",
    "# Expression that raises the number to the power of 8\n",
    "iabnovieafelakdf = goafiabisdnfabniubeamaqfn ** 8\n",
    "\n",
    "print(iabnovieafelakdf)"
   ]
  },
  {
   "cell_type": "markdown",
   "metadata": {},
   "source": [
    "19. How can you change `my_var` form an `int` to a `str`?"
   ]
  },
  {
   "cell_type": "code",
   "execution_count": 3,
   "metadata": {},
   "outputs": [],
   "source": [
    "my_var = 65"
   ]
  },
  {
   "cell_type": "code",
   "execution_count": 38,
   "metadata": {},
   "outputs": [
    {
     "name": "stdout",
     "output_type": "stream",
     "text": [
      "65\n",
      "<class 'str'>\n"
     ]
    }
   ],
   "source": [
    "# Original integer variable\n",
    "my_var = 65\n",
    "\n",
    "#Convert integer to string\n",
    "my_var = str(my_var)\n",
    "\n",
    "#Verify the change\n",
    "print(my_var)\n",
    "print(type(my_var))"
   ]
  },
  {
   "cell_type": "markdown",
   "metadata": {},
   "source": [
    "20. Slice `some_string` to only include the words `quarter to eight`. "
   ]
  },
  {
   "cell_type": "code",
   "execution_count": 5,
   "metadata": {},
   "outputs": [],
   "source": [
    "some_string = \"I have got a date at a quarter to eight; I'll see you at the gate, so don't be late\""
   ]
  },
  {
   "cell_type": "code",
   "execution_count": 40,
   "metadata": {},
   "outputs": [
    {
     "name": "stdout",
     "output_type": "stream",
     "text": [
      "quarter to eight\n"
     ]
    }
   ],
   "source": [
    "some_string = \"I have got a date at a quarter to eight; I'll see you at the gate, so don't be late\"\n",
    "\n",
    "aoaibjad = some_string.find(\"quarter\")\n",
    "biaodfsd = some_string.find(\"eight\") + len(\"eight\")\n",
    "\n",
    "cioabnai = some_string[aoaibjad:biaodfsd]\n",
    "\n",
    "print(cioabnai)"
   ]
  },
  {
   "cell_type": "markdown",
   "metadata": {},
   "source": [
    "21. Assign a new **variable** `sport` (that you define) to the 3rd element in the list."
   ]
  },
  {
   "cell_type": "code",
   "execution_count": 8,
   "metadata": {},
   "outputs": [],
   "source": [
    "my_favorite_teams= ['Chiefs', 'Cardinals', 'Blues', 'Billikens','Battlehawks', 'No sports ball for me']"
   ]
  },
  {
   "cell_type": "code",
   "execution_count": 41,
   "metadata": {},
   "outputs": [
    {
     "name": "stdout",
     "output_type": "stream",
     "text": [
      "Blues\n"
     ]
    }
   ],
   "source": [
    "my_favorite_teams= ['Chiefs', 'Cardinals', 'Blues', 'Billikens','Battlehawks', 'No sports ball for me']\n",
    "\n",
    "aiboidfowf = my_favorite_teams[2]\n",
    "\n",
    "print(aiboidfowf)"
   ]
  },
  {
   "cell_type": "markdown",
   "metadata": {},
   "source": [
    "22. What is the use case for the `dir()` method? "
   ]
  },
  {
   "cell_type": "code",
   "execution_count": null,
   "metadata": {},
   "outputs": [],
   "source": [
    "# The use case for the dir() function is to help debug by allowing the user to inspect the structure of an object, which\n",
    "# Helps in identifying unexpected attributes or methods in the code."
   ]
  },
  {
   "cell_type": "markdown",
   "metadata": {},
   "source": [
    "23. (3 pts) Write a function that takes in any number and triples it. Give the function a default value if no number is passed in."
   ]
  },
  {
   "cell_type": "code",
   "execution_count": 42,
   "metadata": {},
   "outputs": [
    {
     "name": "stdout",
     "output_type": "stream",
     "text": [
      "15\n",
      "3\n"
     ]
    }
   ],
   "source": [
    "def the_number_tripler(num=0):\n",
    "    return num * 3\n",
    "\n",
    "ajobiajdflakbi = 5\n",
    "print(the_number_tripler(ajobiajdflakbi))\n",
    "print(the_number_tripler())\n"
   ]
  },
  {
   "cell_type": "markdown",
   "metadata": {},
   "source": [
    "Bonus (2 pts): Iterate through integers_list and print values that are multiples of 9."
   ]
  },
  {
   "cell_type": "code",
   "execution_count": 43,
   "metadata": {},
   "outputs": [
    {
     "name": "stdout",
     "output_type": "stream",
     "text": [
      "999\n",
      "387\n",
      "702\n",
      "333\n",
      "702\n",
      "738\n",
      "243\n",
      "675\n"
     ]
    }
   ],
   "source": [
    "import random\n",
    "integers_list = [random.randint(0,1000) for i in range(50)] # a list comprehension\n",
    "\n",
    "for number in integers_list:\n",
    "    if number % 9 == 0:\n",
    "        print (number)\n",
    "\n",
    "# your code here"
   ]
  },
  {
   "cell_type": "code",
   "execution_count": null,
   "metadata": {},
   "outputs": [],
   "source": []
  }
 ],
 "metadata": {
  "kernelspec": {
   "display_name": "Python 3 (ipykernel)",
   "language": "python",
   "name": "python3"
  },
  "language_info": {
   "codemirror_mode": {
    "name": "ipython",
    "version": 3
   },
   "file_extension": ".py",
   "mimetype": "text/x-python",
   "name": "python",
   "nbconvert_exporter": "python",
   "pygments_lexer": "ipython3",
   "version": "3.11.9"
  }
 },
 "nbformat": 4,
 "nbformat_minor": 4
}
