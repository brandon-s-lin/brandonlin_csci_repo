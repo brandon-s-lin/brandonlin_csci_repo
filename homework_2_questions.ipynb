{
 "cells": [
  {
   "cell_type": "markdown",
   "id": "4d7e762c-9fc0-4cd3-b0db-89ca17152808",
   "metadata": {},
   "source": [
    "### Homework 2\n",
    "#### Loops, Functions and Classes\n",
    "\n",
    "1. Do this homework **in order**. \n",
    "2. Be sure to have a solid understanding of Functions before working with Classes.\n",
    "\n",
    "In general, I don't expect deep knowledge of classes in this class. What's covered here is roughly the extent of it. Remember, classes are a tricky concept to master in programming, but they are more straightforward in Python than many other languages. \n",
    "\n",
    "Also, do not hesitate to reach out to me for help! When I first learned to program the concepts covered in assignments like this blew my mind. If you find this difficult, you are not alone! I was once in the same boat as well. "
   ]
  },
  {
   "cell_type": "markdown",
   "id": "691e2265-ff44-4748-b16e-d0a407370fb9",
   "metadata": {},
   "source": [
    "1. (2 pts) Loop through the string and eliminate all the asterisks."
   ]
  },
  {
   "cell_type": "code",
   "execution_count": 12,
   "id": "ae0d2ee2-4281-49ad-84f2-c2abad57067d",
   "metadata": {},
   "outputs": [
    {
     "name": "stdout",
     "output_type": "stream",
     "text": [
      "My computer has gone crazy and added extra symbols.\n"
     ]
    }
   ],
   "source": [
    "asterisk = 'My* compu*ter has go*ne craz***y an*d add*ed extra *symbols.*'\n",
    "\n",
    "# your code here\n",
    "# This line of code checks each individual letter of the string. \n",
    "# If letter is not an asterisk, it will be included.\n",
    "# If letter is string, then skip the letter.\n",
    "# Join command just connects the characters together after it has been checked.\n",
    "house_maid = ''.join([char for char in asterisk if char != '*'])\n",
    "print(house_maid)"
   ]
  },
  {
   "cell_type": "markdown",
   "id": "bdec3ba8-5372-4ad9-a03b-580c04e3a431",
   "metadata": {},
   "source": [
    "2. (1 pt) Write a while loop that increments counter until it reaches 7."
   ]
  },
  {
   "cell_type": "code",
   "execution_count": 2,
   "id": "e333acd1-7e6a-4c8b-a51f-3fba6492bcc9",
   "metadata": {},
   "outputs": [
    {
     "name": "stdout",
     "output_type": "stream",
     "text": [
      "1\n",
      "2\n",
      "3\n",
      "4\n",
      "5\n",
      "6\n",
      "7\n"
     ]
    }
   ],
   "source": [
    "counter = 0\n",
    "# your code here\n",
    "\n",
    "while counter < 7:\n",
    "    counter +=1\n",
    "    print(counter)"
   ]
  },
  {
   "cell_type": "markdown",
   "id": "bddaa2d7-917a-4c11-8ccc-10b926539945",
   "metadata": {},
   "source": [
    "3. (3 pts) Create a function that takes in two numbers.\n",
    "If the numbers are both even add them and return the result.\n",
    "\n",
    "If the numbers are odd, subtract the second number from the first and return the result.\n",
    "\n",
    "(Assume you'll always get integers and if you dont, return a message indicating the input is wrong)"
   ]
  },
  {
   "cell_type": "code",
   "execution_count": 11,
   "id": "7cf1850c-b7a4-4d13-8488-1ffd269fa79b",
   "metadata": {},
   "outputs": [
    {
     "name": "stdout",
     "output_type": "stream",
     "text": [
      "6\n",
      "2\n",
      "You did not put both even Krabby Patties or both odd Krabby Patties\n",
      "You Shall Not Pass!\n"
     ]
    }
   ],
   "source": [
    "# Define a function that does what is asked above.\n",
    "def krusty_crab(spongebob,patrick):\n",
    "    # Check if the number is an integer\n",
    "    if not isinstance(spongebob, int) or not isinstance(patrick, int):\n",
    "        return \"You Shall Not Pass!\" \n",
    "    \n",
    "    # Now check if both numbers are even\n",
    "    if spongebob % 2 == 0 and patrick % 2 == 0:\n",
    "        return spongebob + patrick\n",
    "    \n",
    "    # Now check if the numbers are odd\n",
    "    elif spongebob % 2 != 0 and patrick % 2 != 0:\n",
    "        return spongebob - patrick\n",
    "    \n",
    "    # Now if numbers are not both even or odd give a response\n",
    "    else:\n",
    "        return \"You did not put both even Krabby Patties or both odd Krabby Patties\"\n",
    "    \n",
    "# Test 1\n",
    "Sandy_Squirrel = krusty_crab(2,4)\n",
    "print(Sandy_Squirrel)\n",
    "\n",
    "# Test 2\n",
    "Larry_Lobster = krusty_crab(3,1)\n",
    "print(Larry_Lobster)\n",
    "\n",
    "# Test 3\n",
    "Mr_Crabs = krusty_crab(1,2)\n",
    "print(Mr_Crabs)\n",
    "\n",
    "# Test 4\n",
    "Squidward_Squid = krusty_crab(1.1,2)\n",
    "print(Squidward_Squid)\n",
    "    "
   ]
  },
  {
   "cell_type": "markdown",
   "id": "4fe68a99-b731-4768-804f-87a81099581d",
   "metadata": {},
   "source": [
    "4. (4 pts) Create a function that prints a triangle of asterisks as below. \n",
    "The function accepts n as an integer and makes the longest leg of the triangle that length, decrementing by one until you close the triangle. The function also accepts a direction for the triangle as a variable. If you pass in \"base-up\" it returns the first, but \"base-down\" returns the second.\n",
    "For example, for a triangle where n = 5, the following would be produced:"
   ]
  },
  {
   "cell_type": "code",
   "execution_count": 61,
   "id": "989783e2-c5a8-4eb8-9b27-69c26863f89b",
   "metadata": {},
   "outputs": [
    {
     "name": "stdout",
     "output_type": "stream",
     "text": [
      "*\n",
      "**\n",
      "***\n",
      "****\n",
      "*****\n",
      "******\n",
      "*******\n",
      "********\n",
      "*********\n",
      "********\n",
      "*******\n",
      "******\n",
      "*****\n",
      "****\n",
      "***\n",
      "**\n",
      "*\n",
      "The direction you used was invalid. Please use 'base-up' or 'base-down'.\n"
     ]
    }
   ],
   "source": [
    "# Base-up triangle\n",
    "# * * * * *\n",
    "# * * * *\n",
    "# * * *\n",
    "# * *\n",
    "# *\n",
    "\n",
    "# Base-down triangle\n",
    "# *\n",
    "# * *\n",
    "# * * *\n",
    "# * * * *\n",
    "# * * * * *\n",
    "\n",
    "# Define the function.\n",
    "def triangles(n,direction):\n",
    "    # Code for base down\n",
    "    if direction == \"base-down\":\n",
    "        # Base down triagle code \n",
    "        for i in range(1, n+1):\n",
    "            print('*' * i)\n",
    "    # Code for base up \n",
    "    elif direction == \"base-up\":\n",
    "        # Base up triangle code\n",
    "        for i in range(n, 0, -1):\n",
    "            print('*' * i)\n",
    "    # Code for other imputs\n",
    "    else:\n",
    "        print(\"The direction you used was invalid. Please use 'base-up' or 'base-down'.\")\n",
    "\n",
    "# Example 1\n",
    "triangles(9, \"base-down\")\n",
    "\n",
    "# Example 2\n",
    "triangles(8, \"base-up\")\n",
    "\n",
    "# Example 3\n",
    "triangles(3, \"your mom\")\n"
   ]
  },
  {
   "cell_type": "markdown",
   "id": "f5d8735c-5da0-47e3-a2a5-2d99561e6ce9",
   "metadata": {},
   "source": [
    "5. (4 pts) Create a function that accepts a letter. Variables a, b, c, and d all start with a value of 0 and can each have a max value of 8. You need to find and return the value for each that results in the place that letter is in the alphabet. So, for example, if you pass in J, the returned value should be \"a = 8, b = 2, c = 0, and d = 0 for the letter J\". You should provide logical errors for inputs that arent what you expect.  "
   ]
  },
  {
   "cell_type": "code",
   "execution_count": 53,
   "id": "87d2d239-27ef-4ba8-a462-4e03967b359f",
   "metadata": {},
   "outputs": [
    {
     "name": "stdout",
     "output_type": "stream",
     "text": [
      "a = 1, b = 0, c = 0, d = 0\n",
      "a = 2, b = 0, c = 0, d = 0\n",
      "a = 3, b = 0, c = 0, d = 0\n",
      "a = 4, b = 0, c = 0, d = 0\n",
      "a = 5, b = 0, c = 0, d = 0\n",
      "a = 6, b = 0, c = 0, d = 0\n",
      "a = 7, b = 0, c = 0, d = 0\n",
      "a = 8, b = 0, c = 0, d = 0\n",
      "a = 0, b = 1, c = 0, d = 0\n",
      "a = 0, b = 2, c = 0, d = 0\n",
      "a = 0, b = 3, c = 0, d = 0\n",
      "a = 0, b = 4, c = 0, d = 0\n",
      "a = 0, b = 5, c = 0, d = 0\n",
      "a = 0, b = 6, c = 0, d = 0\n",
      "a = 0, b = 7, c = 0, d = 0\n",
      "a = 0, b = 8, c = 0, d = 0\n",
      "a = 0, b = 0, c = 1, d = 0\n",
      "a = 0, b = 0, c = 2, d = 0\n",
      "a = 0, b = 0, c = 3, d = 0\n",
      "a = 0, b = 0, c = 4, d = 0\n",
      "a = 0, b = 0, c = 5, d = 0\n",
      "a = 0, b = 0, c = 6, d = 0\n",
      "a = 0, b = 0, c = 7, d = 0\n",
      "a = 0, b = 0, c = 8, d = 0\n",
      "a = 0, b = 0, c = 0, d = 1\n",
      "a = 0, b = 0, c = 0, d = 2\n",
      "Non-sigma input. Please use a single letter\n"
     ]
    }
   ],
   "source": [
    "# Define a funciton\n",
    "def ligma(sigma):\n",
    "    # Make sure that the input is both a part of the alphabet and also a single letter\n",
    "    if not sigma.isalpha() or len(sigma) != 1:\n",
    "        return \"Non-sigma input. Please use a single letter\"\n",
    "    \n",
    "    # Create Variables for a, b, c, and d\n",
    "    a, b, c, d = 0, 0, 0, 0\n",
    "\n",
    "    # Code that locates the letter's position within that alphabet\n",
    "    # The ord funciton helps give an integer value to my letters\n",
    "    sigma_position = ord(sigma.lower()) - ord('a') + 1\n",
    "\n",
    "    # Create values based on the position of the letters in the alphabet\n",
    "    if sigma_position <= 8:\n",
    "        a = sigma_position\n",
    "    elif sigma_position <= 16:\n",
    "        b = sigma_position - 8\n",
    "    elif sigma_position <= 24:\n",
    "        c = sigma_position - 16\n",
    "    else:\n",
    "        d = sigma_position - 24\n",
    "\n",
    "    return f\"a = {a}, b = {b}, c = {c}, d = {d}\"\n",
    "\n",
    "# Example a\n",
    "Adele = ligma('a')\n",
    "print(Adele)\n",
    "# Example b\n",
    "Baby_Gronk = ligma('b')\n",
    "print(Baby_Gronk)\n",
    "# Example c\n",
    "Chris_Pratt = ligma('c')\n",
    "print(Chris_Pratt)\n",
    "# Example d\n",
    "Duke_Dennis = ligma('d')\n",
    "print(Duke_Dennis)\n",
    "# Example e\n",
    "Ed_Sheeran = ligma('e')\n",
    "print(Ed_Sheeran)\n",
    "# Example f\n",
    "Fanum_Tax = ligma('f')\n",
    "print(Fanum_Tax)\n",
    "# Example g\n",
    "Giorgio_Armani = ligma('g')\n",
    "print(Giorgio_Armani)\n",
    "# Example h\n",
    "Harry_Styles = ligma('h')\n",
    "print(Harry_Styles)\n",
    "# Example i\n",
    "Ivanka_Trump = ligma('i')\n",
    "print(Ivanka_Trump)\n",
    "# Example j\n",
    "Jada_Pinkett_Smith = ligma('j')\n",
    "print(Jada_Pinkett_Smith)\n",
    "# Example k\n",
    "Kai_Cenat = ligma('k')\n",
    "print(Kai_Cenat)\n",
    "# Example l\n",
    "Livvy_Dunne = ligma('l')\n",
    "print(Livvy_Dunne)\n",
    "# Example m\n",
    "Margot_Robbie = ligma('m')\n",
    "print(Margot_Robbie)\n",
    "# Example n\n",
    "Nicki_Minaj = ligma('n')\n",
    "print(Nicki_Minaj)\n",
    "# Example o\n",
    "Olivia_Rodrigo = ligma('o')\n",
    "print(Olivia_Rodrigo)\n",
    "# Example p\n",
    "Pete_Davidson = ligma('p')\n",
    "print(Pete_Davidson)\n",
    "# Example q\n",
    "Queen_Elizabeth = ligma('q')\n",
    "print(Queen_Elizabeth)\n",
    "# Example r\n",
    "Ryan_Pattinson = ligma('r')\n",
    "print(Ryan_Pattinson)\n",
    "# Example s\n",
    "Sam_Sulek = ligma('s')\n",
    "print(Sam_Sulek)\n",
    "# Example t\n",
    "Taylor_Swift = ligma('t')\n",
    "print(Taylor_Swift)\n",
    "# Example u\n",
    "Ursula_Parker = ligma('u')\n",
    "print(Ursula_Parker)\n",
    "# Example v\n",
    "Venus_Williams = ligma('v')\n",
    "print(Venus_Williams)\n",
    "# Example w\n",
    "Will_Smith = ligma('w')\n",
    "print(Will_Smith)\n",
    "# Example x\n",
    "Xavier_Dolan = ligma('x')\n",
    "print(Xavier_Dolan)\n",
    "# Example y\n",
    "Yvonne_Strahovski = ligma('y')\n",
    "print(Yvonne_Strahovski)\n",
    "# Example z\n",
    "Zendaya_Coleman = ligma('z')\n",
    "print(Zendaya_Coleman)\n",
    "# Example 1\n",
    "Uno = ligma('1')\n",
    "print(Uno)\n",
    "    "
   ]
  },
  {
   "cell_type": "markdown",
   "id": "9cbe4104-769f-49c0-94d8-8c9750f941bc",
   "metadata": {},
   "source": [
    "6. (3 pts) Add an attribute called `age` to the `__init__` method of the `Person` class.\n",
    "\n",
    "Create an instance of `Person()` and print the `age`."
   ]
  },
  {
   "cell_type": "code",
   "execution_count": 42,
   "id": "d9857301-6a2a-424f-bf03-b8da9bcc483c",
   "metadata": {},
   "outputs": [
    {
     "name": "stdout",
     "output_type": "stream",
     "text": [
      "The Skibidi Rizzler's age is: 69\n"
     ]
    }
   ],
   "source": [
    "class Person():\n",
    "    \n",
    "    def __init__(self, name, occupation, country, age):\n",
    "        self.name = name\n",
    "        self.occupation = occupation\n",
    "        self.country = country\n",
    "        self.age = age # Assign age to the instance\n",
    "\n",
    "# Create an instance of the person\n",
    "Skibidi_Rizzler = Person(name = \"Skibidi Rizzler\", occupation = \"Mogger\", country = \"Wakanda\", age = 69)\n",
    "\n",
    "# Print the age\n",
    "print(f\"The Skibidi Rizzler's age is: {Skibidi_Rizzler.age}\")\n"
   ]
  },
  {
   "cell_type": "markdown",
   "id": "4f0f1b43-fefa-4f47-882f-f47800543fa9",
   "metadata": {},
   "source": [
    "7. (3 pts) Add a `static` method of your choice to the class below. \n",
    "\n",
    "Instantiate an object and call your method. \n",
    "\n",
    "What is a static method? (1 pt for your answer here) "
   ]
  },
  {
   "cell_type": "code",
   "execution_count": 45,
   "id": "8bdb974b-86b6-4376-ac0e-be5982fce59b",
   "metadata": {},
   "outputs": [
    {
     "name": "stdout",
     "output_type": "stream",
     "text": [
      "Meryl Streep: This is my line...\n",
      "Gurrrl, you need a ride? Where my HUG at?\n"
     ]
    }
   ],
   "source": [
    "class actress():\n",
    "    def __init__(self, name = 'Meryl Streep'):\n",
    "        self.name = name\n",
    "        \n",
    "    def act(self, line):\n",
    "        print(f'{self.name}: {line}')\n",
    "        \n",
    "    @staticmethod\n",
    "    def rizz(): # Static Method\n",
    "        print(\"Gurrrl, you need a ride? Where my HUG at?\")\n",
    "        \n",
    "meryl = actress()\n",
    "meryl.act('This is my line...')\n",
    "\n",
    "# Calling Static Method\n",
    "actress.rizz()"
   ]
  },
  {
   "cell_type": "markdown",
   "id": "d02a50c2-0df8-47cf-ba86-43c3fe9734e7",
   "metadata": {},
   "source": [
    "8. (5 pts) Create a class called `Dice` that accepts a single argument called `number_of_dice`. \n",
    "\n",
    "Create an instance method called `roll`. \n",
    "\n",
    "`roll` should randomly pick a number for each die when called and print the results as a list. \n",
    "\n",
    "Create an instance of `Dice`. Then call `roll()` on your instance.\n",
    "\n",
    "Hint: Inside your class create an empty list called `dice`."
   ]
  },
  {
   "cell_type": "code",
   "execution_count": 66,
   "id": "417e11af-458f-4307-b69a-ff20a39c9855",
   "metadata": {},
   "outputs": [
    {
     "name": "stdout",
     "output_type": "stream",
     "text": [
      "[6, 3, 2, 5, 4, 1, 2, 5, 2, 2, 5, 4]\n"
     ]
    }
   ],
   "source": [
    "import random\n",
    "\n",
    "class Dice:\n",
    "    def __init__(Duke, number_of_dice):\n",
    "        Duke.number_of_dice = number_of_dice\n",
    "        Duke.dice = []\n",
    "    \n",
    "    def roll(Duke):\n",
    "        Duke.dice = [random.randint(1,6) for _ in range(Duke.number_of_dice)]\n",
    "        print(Duke.dice)\n",
    "\n",
    "    # Instance of Dice and calling roll\n",
    "    dice_game = Dice(12)\n",
    "    dice_game.roll()\n"
   ]
  },
  {
   "cell_type": "markdown",
   "id": "627197ff-27e6-4839-a5c6-59cd6200d2fb",
   "metadata": {},
   "source": [
    "BONUS: (3 pts) Create a `class` called Car that accepts 3 attributes (make, model and year). \n",
    "\n",
    "In the `__init__` method give your instance those three attributes. \n",
    "\n",
    "Instantiate (create) an object that is your dream car. \n",
    "\n",
    "Print the make of your dream car using the object attributes. \n",
    "\n",
    "Create an appropriate method to return the top speed and call it. \n",
    "\n",
    "Then call the dir() method on your new object. (See your attrs are now included!)"
   ]
  },
  {
   "cell_type": "code",
   "execution_count": 67,
   "id": "2ffb5530-620a-43e0-8c48-4c9754f1f1b3",
   "metadata": {},
   "outputs": [
    {
     "name": "stdout",
     "output_type": "stream",
     "text": [
      "Nissan\n",
      "Top Speed: 115\n",
      "['__class__', '__delattr__', '__dict__', '__dir__', '__doc__', '__eq__', '__format__', '__ge__', '__getattribute__', '__getstate__', '__gt__', '__hash__', '__init__', '__init_subclass__', '__le__', '__lt__', '__module__', '__ne__', '__new__', '__reduce__', '__reduce_ex__', '__repr__', '__setattr__', '__sizeof__', '__str__', '__subclasshook__', '__weakref__', 'make', 'model', 'top_speed', 'year']\n"
     ]
    }
   ],
   "source": [
    "class Car:\n",
    "    def __init__(sheesh, make, model, year):\n",
    "        sheesh.make = make\n",
    "        sheesh.model = model\n",
    "        sheesh.year = year\n",
    "\n",
    "    def top_speed(sheesh):\n",
    "        return 115\n",
    "\n",
    "# Instantiate the Car class\n",
    "best_car = Car(\"Nissan\", \"Versa\", 2007)\n",
    "\n",
    "# Print the make of the car\n",
    "print(best_car.make)\n",
    "\n",
    "# Call the top_speed method\n",
    "print(\"Top Speed:\", best_car.top_speed())\n",
    "\n",
    "# Call dir() on the car object to see its attributes\n",
    "print(dir(best_car))\n"
   ]
  },
  {
   "cell_type": "code",
   "execution_count": null,
   "id": "9aeafcba",
   "metadata": {},
   "outputs": [],
   "source": []
  }
 ],
 "metadata": {
  "kernelspec": {
   "display_name": "Python 3 (ipykernel)",
   "language": "python",
   "name": "python3"
  },
  "language_info": {
   "codemirror_mode": {
    "name": "ipython",
    "version": 3
   },
   "file_extension": ".py",
   "mimetype": "text/x-python",
   "name": "python",
   "nbconvert_exporter": "python",
   "pygments_lexer": "ipython3",
   "version": "3.11.9"
  }
 },
 "nbformat": 4,
 "nbformat_minor": 5
}
